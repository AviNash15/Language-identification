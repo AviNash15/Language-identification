{
 "cells": [
  {
   "cell_type": "code",
   "execution_count": 1,
   "metadata": {},
   "outputs": [
    {
     "name": "stderr",
     "output_type": "stream",
     "text": [
      "/opt/anaconda3/lib/python3.6/site-packages/h5py/__init__.py:34: FutureWarning: Conversion of the second argument of issubdtype from `float` to `np.floating` is deprecated. In future, it will be treated as `np.float64 == np.dtype(float).type`.\n",
      "  from ._conv import register_converters as _register_converters\n",
      "Using TensorFlow backend.\n"
     ]
    }
   ],
   "source": [
    "import pandas as pd\n",
    "from sklearn.externals import joblib\n",
    "from keras.models import model_from_json\n",
    "from keras.preprocessing import sequence,text\n",
    "import pandas as pd\n",
    "import re\n",
    "import string\n",
    "import csv \n",
    "import numpy as np\n",
    "import json\n",
    "from tqdm import tqdm\n",
    "from keras.utils import np_utils\n",
    "from keras.models import Model, Sequential, load_model\n",
    "from keras.metrics import top_k_categorical_accuracy\n",
    "from keras.preprocessing.text import Tokenizer\n",
    "from keras.preprocessing.sequence import pad_sequences\n",
    "from gensim.parsing.preprocessing import preprocess_string, preprocess_documents\n",
    "from gensim.parsing.porter import PorterStemmer\n",
    "from nltk.tokenize import wordpunct_tokenize\n",
    "import warnings\n",
    "pd.set_option('display.max_colwidth', -1)\n",
    "warnings.filterwarnings(\"ignore\")"
   ]
  },
  {
   "cell_type": "code",
   "execution_count": 4,
   "metadata": {},
   "outputs": [
    {
     "name": "stdout",
     "output_type": "stream",
     "text": [
      "Loaded model from disk\n"
     ]
    }
   ],
   "source": [
    "label_map = joblib.load(\"/home/avinash/lang_detect_label_1.pkl\")\n",
    "tokens = joblib.load(\"/home/avinash/lang_detect_tokenizer_1.pkl\")\n",
    "json_file = open('/home/avinash/lang_detect.json', 'r')\n",
    "loaded_model_json = json_file.read()\n",
    "json_file.close()\n",
    "loaded_model = model_from_json(loaded_model_json)\n",
    "loaded_model.load_weights(\"/home/avinash/lang_detect.h5\")\n",
    "print(\"Loaded model from disk\")"
   ]
  },
  {
   "cell_type": "code",
   "execution_count": 98,
   "metadata": {},
   "outputs": [],
   "source": [
    "sent = ['hi i am avinash krishna and i love machine learning', \n",
    "        'cześć jestem avinash krishna i kocham uczenie maszynowe', \n",
    "        \"salut je suis avinash krishna et j'aime l'apprentissage automatique\",\n",
    "        \"hi i am avinash krishna si imi place masina de invatare\",\n",
    "       \"привет, я авинаш кришна, и я люблю машинное обучение\",\n",
    "       \"Hallo, ich bin Avinash Krishna und ich liebe maschinelles Lernen\",\n",
    "       \"हाय मैं अविनाश कृष्णा हूं और मुझे मशीन सीखना पसंद है\",\n",
    "       \"hej jag är avinash krishna och jag älskar maskininlärning\"]\n",
    "\n",
    "test = tokens.texts_to_sequences(sent)\n",
    "test = pad_sequences(test,  maxlen=15, padding='post', truncating='post', value=0.0)\n",
    "test = np.fliplr(test)"
   ]
  },
  {
   "cell_type": "code",
   "execution_count": 99,
   "metadata": {},
   "outputs": [
    {
     "name": "stdout",
     "output_type": "stream",
     "text": [
      "8/8 [==============================] - 0s 132us/step\n"
     ]
    }
   ],
   "source": [
    "pred_output  = np.argmax(loaded_model.predict(test, verbose=1), axis=1)\n",
    "pred_output = label_map.inverse_transform(pred_output)"
   ]
  },
  {
   "cell_type": "code",
   "execution_count": 100,
   "metadata": {},
   "outputs": [
    {
     "name": "stdout",
     "output_type": "stream",
     "text": [
      "8/8 [==============================] - 0s 399us/step\n"
     ]
    }
   ],
   "source": [
    "pred_output_score = np.max(loaded_model.predict(test, verbose=1),axis=1)"
   ]
  },
  {
   "cell_type": "code",
   "execution_count": 101,
   "metadata": {},
   "outputs": [
    {
     "data": {
      "text/plain": [
       "array(['__label__eng', '__label__pol', '__label__fra', '__label__ron',\n",
       "       '__label__rus', '__label__deu', '__label__hin', '__label__swe'],\n",
       "      dtype=object)"
      ]
     },
     "execution_count": 101,
     "metadata": {},
     "output_type": "execute_result"
    }
   ],
   "source": [
    "pred_output"
   ]
  },
  {
   "cell_type": "code",
   "execution_count": 102,
   "metadata": {},
   "outputs": [
    {
     "data": {
      "text/plain": [
       "array([1.        , 1.        , 1.        , 0.99886864, 1.        ,\n",
       "       1.        , 1.        , 1.        ], dtype=float32)"
      ]
     },
     "execution_count": 102,
     "metadata": {},
     "output_type": "execute_result"
    }
   ],
   "source": [
    "pred_output_score"
   ]
  }
 ],
 "metadata": {
  "kernelspec": {
   "display_name": "Python 3",
   "language": "python",
   "name": "python3"
  },
  "language_info": {
   "codemirror_mode": {
    "name": "ipython",
    "version": 3
   },
   "file_extension": ".py",
   "mimetype": "text/x-python",
   "name": "python",
   "nbconvert_exporter": "python",
   "pygments_lexer": "ipython3",
   "version": "3.6.4"
  }
 },
 "nbformat": 4,
 "nbformat_minor": 2
}
